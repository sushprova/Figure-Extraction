{
  "nbformat": 4,
  "nbformat_minor": 0,
  "metadata": {
    "colab": {
      "provenance": [],
      "authorship_tag": "ABX9TyN3VB9fQlf1rcvJO/bS7M83"
    },
    "kernelspec": {
      "name": "python3",
      "display_name": "Python 3"
    },
    "language_info": {
      "name": "python"
    }
  },
  "cells": [
    {
      "cell_type": "code",
      "execution_count": null,
      "metadata": {
        "id": "3__rkt314pmg"
      },
      "outputs": [],
      "source": [
        "import cv2 as cv\n",
        "import numpy as np\n",
        "\n",
        "def load_alphabet(alphabet_file):\n",
        "    with open(alphabet_file, 'r') as file:\n",
        "        alphabet = file.read().splitlines()\n",
        "    return alphabet\n",
        "\n",
        "def detect_and_recognize_text(image_path, target_word, detection_model_path, recognition_model_path, alphabet_path, rgb=True):\n",
        "    # Load the pre-trained text detection model\n",
        "    detection_net = cv.dnn.readNet(detection_model_path)\n",
        "    detection_model = cv.dnn_TextDetectionModel(detection_net)\n",
        "\n",
        "    # Load the pre-trained text recognition model\n",
        "    recognition_net = cv.dnn.readNet(recognition_model_path)\n",
        "    recognition_model = cv.dnn_TextRecognitionModel(recognition_net)\n",
        "    recognition_model.setDecodeType(\"CTC-greedy\")\n",
        "    recognition_vocab = load_alphabet(alphabet_path)\n",
        "    recognition_model.setVocabulary(recognition_vocab)\n",
        "\n",
        "    # Load the input image\n",
        "    image = cv.imread(image_path)\n",
        "    if rgb:\n",
        "        image = cv.cvtColor(image, cv.COLOR_BGR2RGB)\n",
        "\n",
        "    # Text detection\n",
        "    detections, confidences = detection_model.detectTextRectangles(image)\n",
        "\n",
        "    # Initialize an empty list to hold recognized texts and corresponding boxes\n",
        "    recognized_texts = []\n",
        "\n",
        "    # Process detected text region\n",
        "    for rect in detections:\n",
        "        box = cv.boxPoints(rect)\n",
        "        box = np.int0(box)\n",
        "\n",
        "        # Extract the ROI from the image\n",
        "        x_min, y_min = np.min(box[:, 0]), np.min(box[:, 1])\n",
        "        x_max, y_max = np.max(box[:, 0]), np.max(box[:, 1])\n",
        "        roi = image[y_min:y_max, x_min:x_max]\n",
        "\n",
        "        # Prepare the input blob for text recognition\n",
        "        blob = cv.dnn.blobFromImage(roi, scalefactor=1.0, size=(100, 32), mean=(127.5, 127.5, 127.5), swapRB=True, crop=True)\n",
        "        recognition_model.setInput(blob)\n",
        "\n",
        "        # Recognize text using the recognition model\n",
        "        recognized_text = recognition_model.recognize()\n",
        "\n",
        "        # Add the recognized text and box to the list if it contains the target word\n",
        "        if target_word.lower() in recognized_text.lower():\n",
        "            recognized_texts.append((recognized_text, box))\n",
        "\n",
        "    # Draw the recognized text boxes on the image\n",
        "    for text, box in recognized_texts:\n",
        "        cv.drawContours(image, [box], 0, (0, 255, 0), 2)\n",
        "        cv.putText(image, text, (box[0][0], box[0][1] - 10), cv.FONT_HERSHEY_SIMPLEX, 0.5, (0, 255, 0), 2, cv.LINE_AA)\n",
        "\n",
        "    # Display the image with detected text rectangles\n",
        "    cv.imshow('Detected Text', image)\n",
        "    cv.waitKey(0)\n",
        "    cv.destroyAllWindows()\n",
        "\n",
        "\n",
        "image_path = '15901687_5.png'\n",
        "target_word = 'figure'  # The specific word to highlight\n",
        "detection_model_path = 'frozen_east_text_detection.pb'  # Update with the downloaded text detection model path\n",
        "recognition_model_path = 'crnn_cs.onnx'  # Update with text recognition model path\n",
        "alphabet_path = 'alphabet_94.txt'  # Update with recognition model vocabulary path\n",
        "rgb = False  # Set to True if using a model that requires RGB input\n",
        "\n",
        "detect_and_recognize_text(image_path, target_word, detection_model_path, recognition_model_path, alphabet_path, rgb)\n"
      ]
    },
    {
      "cell_type": "code",
      "source": [],
      "metadata": {
        "id": "4ZdUD1Oy7_FC"
      },
      "execution_count": null,
      "outputs": []
    }
  ]
}